{
 "cells": [
  {
   "cell_type": "markdown",
   "id": "liable-steering",
   "metadata": {},
   "source": [
    "# Previsão do PIB brasileiro com técnica de Nowcasting\n",
    "---\n",
    "* O Nowcasting é uma abordagem moderna de monitorar as condições econômicas em tempo real. Diferentemente das técnicas de previsão tradicionais, o nowcasting está preocupado em prever os indicadores enqunto estamos dentro do período de referência, ou logo após. Não há interesse em previsões maior prazo.\n",
    "* O método mais utilizado é o modelo de fator dinâmico, que condensa a informação de várias séries de dados em um pequeno número de fatores. \n",
    "* O filtro de Kalman gera projeções para todas as séries de dados e estimativas para cada lançamento. Quando há o anúncio de novos dados, há uma alteração no modelo, chamado de notícias.\n",
    "* Nos últimos anos, modelos de machine learning, como SVM, LASSO, elastic net e redes neurais, foram implantados para melhorar o poder preditivo dos nowcastings."
   ]
  },
  {
   "cell_type": "markdown",
   "id": "induced-identifier",
   "metadata": {},
   "source": [
    "## Objetivo\n",
    "> O objetivo desta análise é fazer um Nowcasting do PIB trimestral brasileiro com base em mais de 30 variáveis. Para isso, utilizaremos o pacote nowcasting que permite a estimação de modelos de fatores dinâmicos. Assim, é possível obter novas estimativas do PIB a cada novo lançamento de variável. "
   ]
  },
  {
   "cell_type": "markdown",
   "id": "above-asian",
   "metadata": {},
   "source": [
    "## Problema\n",
    "* Quais variáveis escolher\n",
    "* Coleta dos dados\n",
    "* Tratamento e normalização dos dados \n",
    "* Correlação das variáveis\n",
    "* Escolha do modelo\n",
    "* Estimação, treino e acurácia\n",
    "* Previsão \n",
    "* Comunicação dos resultados"
   ]
  },
  {
   "cell_type": "code",
   "execution_count": null,
   "id": "severe-ranch",
   "metadata": {},
   "outputs": [],
   "source": []
  }
 ],
 "metadata": {
  "kernelspec": {
   "display_name": "R",
   "language": "R",
   "name": "ir"
  },
  "language_info": {
   "codemirror_mode": "r",
   "file_extension": ".r",
   "mimetype": "text/x-r-source",
   "name": "R",
   "pygments_lexer": "r",
   "version": "3.6.1"
  }
 },
 "nbformat": 4,
 "nbformat_minor": 5
}
