{
 "cells": [
  {
   "cell_type": "markdown",
   "id": "anticipated-dealing",
   "metadata": {},
   "source": [
    "# Construindo núcleos de inflação \n",
    "---"
   ]
  },
  {
   "cell_type": "markdown",
   "id": "rising-produce",
   "metadata": {},
   "source": [
    "* Construção de núcleos de inflação utilizados pelo Banco Central do Brasil\n",
    "* **Núcleos de Exclusão**\n",
    "     * IPCA-EX0/EX1/EX2/EX3\n",
    "* **Núcleos estáticos**\n",
    "     * IPCA-MA/MS/DP\n",
    "* Alguns ítens do IPCA possuem variação mais voláteis, assim o BC procura isolar algumas tendências inflacionárias criando medidas auxiliáres: os núcleos do IPCA."
   ]
  },
  {
   "cell_type": "markdown",
   "id": "worldwide-attention",
   "metadata": {},
   "source": [
    "## Índice de Preços ao Cpnsumidor - IPCA\n",
    "* É utilizado pelo Banco Central para cumprir o regime de metas de inflação\n",
    "* É construido do forma hierarquizada, sendo dividido em grupos, subgrupos, ítens e subítens.\n",
    "* Atualmente são nove grupos: alimentação, transportes, habitação, artidos de residência, vestuário, saúde, educação e comunicação."
   ]
  },
  {
   "cell_type": "markdown",
   "id": "geological-protein",
   "metadata": {},
   "source": [
    "## Composição do índice\n",
    "* Todos os meses o IBGE calcula avariação do preço decada subítem em relação ao mês anterior, de acordocom o seu peso no índicecheio.\n",
    "* O peso de cada um dos grupos é definido de acordo com os gastos das famílias em diferentes bens e serviços, determinados pela Pesquisa de Orçamento Familiar (POF) do IBGE.\n",
    "* O somatório do produto entre a variação mensal e o peso de todos os subítens resultará na variação mensal do índice cheio."
   ]
  },
  {
   "cell_type": "markdown",
   "id": "indonesian-wrong",
   "metadata": {},
   "source": [
    "## Classificações\n",
    "* Em algumas análises é interessante reunir os subítens do IPCA em determinadas classificações, diferente dos 9 grupos definidos pelo IBGE.\n",
    "* Por exemplo, dentro do pindice existem preços que são regulados, chamados de preços monitorados ou administrados. Esses peços seguem uma lógica diferente dos preços de mercado, assim pode ser melhor isolar e modelá-los conforme sua dinâmica própria, ao ínves de construir um modelo com o índice cheio. \n",
    "\n"
   ]
  },
  {
   "cell_type": "markdown",
   "id": "adult-region",
   "metadata": {},
   "source": [
    "* Exclusão\n",
    "    * **IPCA-EX0** -> Exclui Alimentação no demonicílio e monitorados\n",
    "    * **IPCA-EX1** -> Exclui cereais, leguminosas e oleaginosas, açúcares, hortaliças, frutas, carnes, pescados, aves, ovos, leites, óleos, sal e condimentos. Aparelhos eletrodomésticos, automóveis, etanos, fumo, serviços e monitorados.\n",
    "    * **IPCA-EX2** -> Exclui cereais, farinhas, féculas e massas, açucares, verduras, hortaliças, carnes, pescados, aves, ovos, leite, óleos e gosduras, sal e condimentos. Eletrodomésticos, automóveis, etanos, fumo, serviços e monitorados.  \n",
    "    * **IPCA-EX3** -> Exclui alimentação no domicílio, eletrodomésticos, automóveis, etanos, fumo, serviços e monitorados.\n",
    "* Média Aparada\n",
    "    * **IPCA-MA** -> Simétrica (20% em cada cauda) sem ítens suavisados.\n",
    "    * **IPCA-MS** -> Simétrica (20% em cada cauda) com ítens suavisados. Combustíveis domésticos, energia elétrica, transporte público, combustíveis, serviços pessoais, fumo, cursos e comunicação.\n",
    "* Dupla Ponderação\n",
    "    * **IPCA-DP** -> Pesos baseados na volatilidade relativa (48 meses) e nos pesos originais do IPCA, reduzindo a importância dos componentes mais voláteis."
   ]
  },
  {
   "cell_type": "markdown",
   "id": "defensive-building",
   "metadata": {},
   "source": [
    "### Núcleo por média aparada (IPCA-MA)\n",
    "* Exclui os ítens com variação mensal acima do percentil 80 ou abaixo do percentil 20, utilizando 60% da distribuição."
   ]
  },
  {
   "cell_type": "markdown",
   "id": "turkish-benjamin",
   "metadata": {},
   "source": [
    "### Núcleo por média aparada com suavização (IPCA-MS)\n",
    "* Exclui 20% da variação de preços de âmbas as caudas da distribuição mensal, após a suavização de componentes com variação infrequêntes e de grandes magnitudes."
   ]
  },
  {
   "cell_type": "markdown",
   "id": "corporate-figure",
   "metadata": {},
   "source": [
    "### Núcleo de dupla ponderação (IPCA-DP)\n",
    "* Ajusta os pesos originais de casa ítem de acordo com sua volatilidade relativa, reduzindo a importância de componentes mais voláteis."
   ]
  },
  {
   "cell_type": "markdown",
   "id": "alpine-budget",
   "metadata": {},
   "source": [
    "### Pacotes"
   ]
  },
  {
   "cell_type": "code",
   "execution_count": 13,
   "id": "valued-sample",
   "metadata": {},
   "outputs": [],
   "source": [
    "library(sidrar)\n",
    "library(tidyverse)\n",
    "library(lubridate)"
   ]
  },
  {
   "cell_type": "markdown",
   "id": "superb-minutes",
   "metadata": {},
   "source": [
    "### Inflação mensal e acumulada em 12 meses"
   ]
  },
  {
   "cell_type": "code",
   "execution_count": 27,
   "id": "industrial-postcard",
   "metadata": {},
   "outputs": [
    {
     "name": "stderr",
     "output_type": "stream",
     "text": [
      "All others arguments are desconsidered when 'api' is informed\n",
      "\n"
     ]
    }
   ],
   "source": [
    "ipca_indice = \n",
    "    '/t/1737/n1/all/v/2266/p/all/d/v2266%2013' %>%\n",
    "    get_sidra(api=.) %>%\n",
    "    mutate(date = ymd(paste0(`Mês (Código)`, '01'))) %>%\n",
    "    select(date, Valor) %>%\n",
    "    mutate(mensal = round((Valor/lag(Valor, 1)-1)*100,2),\n",
    "           anual = round((Valor/lag(Valor, 12)-1)*100,2))"
   ]
  },
  {
   "cell_type": "markdown",
   "id": "prospective-bible",
   "metadata": {},
   "source": [
    "### Janela a partir de 2007"
   ]
  },
  {
   "cell_type": "code",
   "execution_count": 29,
   "id": "developmental-quantum",
   "metadata": {},
   "outputs": [],
   "source": [
    "ipca_janela = ipca_indice %>%\n",
    "    filter(date >= as.Date('2007-06-01'))"
   ]
  },
  {
   "cell_type": "code",
   "execution_count": 31,
   "id": "fabulous-amplifier",
   "metadata": {},
   "outputs": [
    {
     "data": {
      "text/html": [
       "<table class=\"dataframe\">\n",
       "<caption>A data.frame: 171 × 4</caption>\n",
       "<thead>\n",
       "\t<tr><th scope=col>date</th><th scope=col>Valor</th><th scope=col>mensal</th><th scope=col>anual</th></tr>\n",
       "\t<tr><th scope=col>&lt;date&gt;</th><th scope=col>&lt;dbl&gt;</th><th scope=col>&lt;dbl&gt;</th><th scope=col>&lt;dbl&gt;</th></tr>\n",
       "</thead>\n",
       "<tbody>\n",
       "\t<tr><td>2007-06-01</td><td>2669.38</td><td>0.28</td><td>3.69</td></tr>\n",
       "\t<tr><td>2007-07-01</td><td>2675.79</td><td>0.24</td><td>3.74</td></tr>\n",
       "\t<tr><td>2007-08-01</td><td>2688.37</td><td>0.47</td><td>4.18</td></tr>\n",
       "\t<tr><td>2007-09-01</td><td>2693.21</td><td>0.18</td><td>4.15</td></tr>\n",
       "\t<tr><td>2007-10-01</td><td>2701.29</td><td>0.30</td><td>4.12</td></tr>\n",
       "\t<tr><td>2007-11-01</td><td>2711.55</td><td>0.38</td><td>4.19</td></tr>\n",
       "\t<tr><td>2007-12-01</td><td>2731.62</td><td>0.74</td><td>4.46</td></tr>\n",
       "\t<tr><td>2008-01-01</td><td>2746.37</td><td>0.54</td><td>4.56</td></tr>\n",
       "\t<tr><td>2008-02-01</td><td>2759.83</td><td>0.49</td><td>4.61</td></tr>\n",
       "\t<tr><td>2008-03-01</td><td>2773.08</td><td>0.48</td><td>4.73</td></tr>\n",
       "\t<tr><td>2008-04-01</td><td>2788.33</td><td>0.55</td><td>5.04</td></tr>\n",
       "\t<tr><td>2008-05-01</td><td>2810.36</td><td>0.79</td><td>5.58</td></tr>\n",
       "\t<tr><td>2008-06-01</td><td>2831.16</td><td>0.74</td><td>6.06</td></tr>\n",
       "\t<tr><td>2008-07-01</td><td>2846.16</td><td>0.53</td><td>6.37</td></tr>\n",
       "\t<tr><td>2008-08-01</td><td>2854.13</td><td>0.28</td><td>6.17</td></tr>\n",
       "\t<tr><td>2008-09-01</td><td>2861.55</td><td>0.26</td><td>6.25</td></tr>\n",
       "\t<tr><td>2008-10-01</td><td>2874.43</td><td>0.45</td><td>6.41</td></tr>\n",
       "\t<tr><td>2008-11-01</td><td>2884.78</td><td>0.36</td><td>6.39</td></tr>\n",
       "\t<tr><td>2008-12-01</td><td>2892.86</td><td>0.28</td><td>5.90</td></tr>\n",
       "\t<tr><td>2009-01-01</td><td>2906.74</td><td>0.48</td><td>5.84</td></tr>\n",
       "\t<tr><td>2009-02-01</td><td>2922.73</td><td>0.55</td><td>5.90</td></tr>\n",
       "\t<tr><td>2009-03-01</td><td>2928.57</td><td>0.20</td><td>5.61</td></tr>\n",
       "\t<tr><td>2009-04-01</td><td>2942.63</td><td>0.48</td><td>5.53</td></tr>\n",
       "\t<tr><td>2009-05-01</td><td>2956.46</td><td>0.47</td><td>5.20</td></tr>\n",
       "\t<tr><td>2009-06-01</td><td>2967.10</td><td>0.36</td><td>4.80</td></tr>\n",
       "\t<tr><td>2009-07-01</td><td>2974.22</td><td>0.24</td><td>4.50</td></tr>\n",
       "\t<tr><td>2009-08-01</td><td>2978.68</td><td>0.15</td><td>4.36</td></tr>\n",
       "\t<tr><td>2009-09-01</td><td>2985.83</td><td>0.24</td><td>4.34</td></tr>\n",
       "\t<tr><td>2009-10-01</td><td>2994.19</td><td>0.28</td><td>4.17</td></tr>\n",
       "\t<tr><td>2009-11-01</td><td>3006.47</td><td>0.41</td><td>4.22</td></tr>\n",
       "\t<tr><td>...</td><td>...</td><td>...</td><td>...</td></tr>\n",
       "\t<tr><td>2019-03-01</td><td>5177.47</td><td> 0.75</td><td>4.58</td></tr>\n",
       "\t<tr><td>2019-04-01</td><td>5206.98</td><td> 0.57</td><td>4.94</td></tr>\n",
       "\t<tr><td>2019-05-01</td><td>5213.75</td><td> 0.13</td><td>4.66</td></tr>\n",
       "\t<tr><td>2019-06-01</td><td>5214.27</td><td> 0.01</td><td>3.37</td></tr>\n",
       "\t<tr><td>2019-07-01</td><td>5224.18</td><td> 0.19</td><td>3.22</td></tr>\n",
       "\t<tr><td>2019-08-01</td><td>5229.93</td><td> 0.11</td><td>3.43</td></tr>\n",
       "\t<tr><td>2019-09-01</td><td>5227.84</td><td>-0.04</td><td>2.89</td></tr>\n",
       "\t<tr><td>2019-10-01</td><td>5233.07</td><td> 0.10</td><td>2.54</td></tr>\n",
       "\t<tr><td>2019-11-01</td><td>5259.76</td><td> 0.51</td><td>3.27</td></tr>\n",
       "\t<tr><td>2019-12-01</td><td>5320.25</td><td> 1.15</td><td>4.31</td></tr>\n",
       "\t<tr><td>2020-01-01</td><td>5331.42</td><td> 0.21</td><td>4.19</td></tr>\n",
       "\t<tr><td>2020-02-01</td><td>5344.75</td><td> 0.25</td><td>4.01</td></tr>\n",
       "\t<tr><td>2020-03-01</td><td>5348.49</td><td> 0.07</td><td>3.30</td></tr>\n",
       "\t<tr><td>2020-04-01</td><td>5331.91</td><td>-0.31</td><td>2.40</td></tr>\n",
       "\t<tr><td>2020-05-01</td><td>5311.65</td><td>-0.38</td><td>1.88</td></tr>\n",
       "\t<tr><td>2020-06-01</td><td>5325.46</td><td> 0.26</td><td>2.13</td></tr>\n",
       "\t<tr><td>2020-07-01</td><td>5344.63</td><td> 0.36</td><td>2.31</td></tr>\n",
       "\t<tr><td>2020-08-01</td><td>5357.46</td><td> 0.24</td><td>2.44</td></tr>\n",
       "\t<tr><td>2020-09-01</td><td>5391.75</td><td> 0.64</td><td>3.14</td></tr>\n",
       "\t<tr><td>2020-10-01</td><td>5438.12</td><td> 0.86</td><td>3.92</td></tr>\n",
       "\t<tr><td>2020-11-01</td><td>5486.52</td><td> 0.89</td><td>4.31</td></tr>\n",
       "\t<tr><td>2020-12-01</td><td>5560.59</td><td> 1.35</td><td>4.52</td></tr>\n",
       "\t<tr><td>2021-01-01</td><td>5574.49</td><td> 0.25</td><td>4.56</td></tr>\n",
       "\t<tr><td>2021-02-01</td><td>5622.43</td><td> 0.86</td><td>5.20</td></tr>\n",
       "\t<tr><td>2021-03-01</td><td>5674.72</td><td> 0.93</td><td>6.10</td></tr>\n",
       "\t<tr><td>2021-04-01</td><td>5692.31</td><td> 0.31</td><td>6.76</td></tr>\n",
       "\t<tr><td>2021-05-01</td><td>5739.56</td><td> 0.83</td><td>8.06</td></tr>\n",
       "\t<tr><td>2021-06-01</td><td>5769.98</td><td> 0.53</td><td>8.35</td></tr>\n",
       "\t<tr><td>2021-07-01</td><td>5825.37</td><td> 0.96</td><td>8.99</td></tr>\n",
       "\t<tr><td>2021-08-01</td><td>5876.05</td><td> 0.87</td><td>9.68</td></tr>\n",
       "</tbody>\n",
       "</table>\n"
      ],
      "text/latex": [
       "A data.frame: 171 × 4\n",
       "\\begin{tabular}{llll}\n",
       " date & Valor & mensal & anual\\\\\n",
       " <date> & <dbl> & <dbl> & <dbl>\\\\\n",
       "\\hline\n",
       "\t 2007-06-01 & 2669.38 & 0.28 & 3.69\\\\\n",
       "\t 2007-07-01 & 2675.79 & 0.24 & 3.74\\\\\n",
       "\t 2007-08-01 & 2688.37 & 0.47 & 4.18\\\\\n",
       "\t 2007-09-01 & 2693.21 & 0.18 & 4.15\\\\\n",
       "\t 2007-10-01 & 2701.29 & 0.30 & 4.12\\\\\n",
       "\t 2007-11-01 & 2711.55 & 0.38 & 4.19\\\\\n",
       "\t 2007-12-01 & 2731.62 & 0.74 & 4.46\\\\\n",
       "\t 2008-01-01 & 2746.37 & 0.54 & 4.56\\\\\n",
       "\t 2008-02-01 & 2759.83 & 0.49 & 4.61\\\\\n",
       "\t 2008-03-01 & 2773.08 & 0.48 & 4.73\\\\\n",
       "\t 2008-04-01 & 2788.33 & 0.55 & 5.04\\\\\n",
       "\t 2008-05-01 & 2810.36 & 0.79 & 5.58\\\\\n",
       "\t 2008-06-01 & 2831.16 & 0.74 & 6.06\\\\\n",
       "\t 2008-07-01 & 2846.16 & 0.53 & 6.37\\\\\n",
       "\t 2008-08-01 & 2854.13 & 0.28 & 6.17\\\\\n",
       "\t 2008-09-01 & 2861.55 & 0.26 & 6.25\\\\\n",
       "\t 2008-10-01 & 2874.43 & 0.45 & 6.41\\\\\n",
       "\t 2008-11-01 & 2884.78 & 0.36 & 6.39\\\\\n",
       "\t 2008-12-01 & 2892.86 & 0.28 & 5.90\\\\\n",
       "\t 2009-01-01 & 2906.74 & 0.48 & 5.84\\\\\n",
       "\t 2009-02-01 & 2922.73 & 0.55 & 5.90\\\\\n",
       "\t 2009-03-01 & 2928.57 & 0.20 & 5.61\\\\\n",
       "\t 2009-04-01 & 2942.63 & 0.48 & 5.53\\\\\n",
       "\t 2009-05-01 & 2956.46 & 0.47 & 5.20\\\\\n",
       "\t 2009-06-01 & 2967.10 & 0.36 & 4.80\\\\\n",
       "\t 2009-07-01 & 2974.22 & 0.24 & 4.50\\\\\n",
       "\t 2009-08-01 & 2978.68 & 0.15 & 4.36\\\\\n",
       "\t 2009-09-01 & 2985.83 & 0.24 & 4.34\\\\\n",
       "\t 2009-10-01 & 2994.19 & 0.28 & 4.17\\\\\n",
       "\t 2009-11-01 & 3006.47 & 0.41 & 4.22\\\\\n",
       "\t ... & ... & ... & ...\\\\\n",
       "\t 2019-03-01 & 5177.47 &  0.75 & 4.58\\\\\n",
       "\t 2019-04-01 & 5206.98 &  0.57 & 4.94\\\\\n",
       "\t 2019-05-01 & 5213.75 &  0.13 & 4.66\\\\\n",
       "\t 2019-06-01 & 5214.27 &  0.01 & 3.37\\\\\n",
       "\t 2019-07-01 & 5224.18 &  0.19 & 3.22\\\\\n",
       "\t 2019-08-01 & 5229.93 &  0.11 & 3.43\\\\\n",
       "\t 2019-09-01 & 5227.84 & -0.04 & 2.89\\\\\n",
       "\t 2019-10-01 & 5233.07 &  0.10 & 2.54\\\\\n",
       "\t 2019-11-01 & 5259.76 &  0.51 & 3.27\\\\\n",
       "\t 2019-12-01 & 5320.25 &  1.15 & 4.31\\\\\n",
       "\t 2020-01-01 & 5331.42 &  0.21 & 4.19\\\\\n",
       "\t 2020-02-01 & 5344.75 &  0.25 & 4.01\\\\\n",
       "\t 2020-03-01 & 5348.49 &  0.07 & 3.30\\\\\n",
       "\t 2020-04-01 & 5331.91 & -0.31 & 2.40\\\\\n",
       "\t 2020-05-01 & 5311.65 & -0.38 & 1.88\\\\\n",
       "\t 2020-06-01 & 5325.46 &  0.26 & 2.13\\\\\n",
       "\t 2020-07-01 & 5344.63 &  0.36 & 2.31\\\\\n",
       "\t 2020-08-01 & 5357.46 &  0.24 & 2.44\\\\\n",
       "\t 2020-09-01 & 5391.75 &  0.64 & 3.14\\\\\n",
       "\t 2020-10-01 & 5438.12 &  0.86 & 3.92\\\\\n",
       "\t 2020-11-01 & 5486.52 &  0.89 & 4.31\\\\\n",
       "\t 2020-12-01 & 5560.59 &  1.35 & 4.52\\\\\n",
       "\t 2021-01-01 & 5574.49 &  0.25 & 4.56\\\\\n",
       "\t 2021-02-01 & 5622.43 &  0.86 & 5.20\\\\\n",
       "\t 2021-03-01 & 5674.72 &  0.93 & 6.10\\\\\n",
       "\t 2021-04-01 & 5692.31 &  0.31 & 6.76\\\\\n",
       "\t 2021-05-01 & 5739.56 &  0.83 & 8.06\\\\\n",
       "\t 2021-06-01 & 5769.98 &  0.53 & 8.35\\\\\n",
       "\t 2021-07-01 & 5825.37 &  0.96 & 8.99\\\\\n",
       "\t 2021-08-01 & 5876.05 &  0.87 & 9.68\\\\\n",
       "\\end{tabular}\n"
      ],
      "text/markdown": [
       "\n",
       "A data.frame: 171 × 4\n",
       "\n",
       "| date &lt;date&gt; | Valor &lt;dbl&gt; | mensal &lt;dbl&gt; | anual &lt;dbl&gt; |\n",
       "|---|---|---|---|\n",
       "| 2007-06-01 | 2669.38 | 0.28 | 3.69 |\n",
       "| 2007-07-01 | 2675.79 | 0.24 | 3.74 |\n",
       "| 2007-08-01 | 2688.37 | 0.47 | 4.18 |\n",
       "| 2007-09-01 | 2693.21 | 0.18 | 4.15 |\n",
       "| 2007-10-01 | 2701.29 | 0.30 | 4.12 |\n",
       "| 2007-11-01 | 2711.55 | 0.38 | 4.19 |\n",
       "| 2007-12-01 | 2731.62 | 0.74 | 4.46 |\n",
       "| 2008-01-01 | 2746.37 | 0.54 | 4.56 |\n",
       "| 2008-02-01 | 2759.83 | 0.49 | 4.61 |\n",
       "| 2008-03-01 | 2773.08 | 0.48 | 4.73 |\n",
       "| 2008-04-01 | 2788.33 | 0.55 | 5.04 |\n",
       "| 2008-05-01 | 2810.36 | 0.79 | 5.58 |\n",
       "| 2008-06-01 | 2831.16 | 0.74 | 6.06 |\n",
       "| 2008-07-01 | 2846.16 | 0.53 | 6.37 |\n",
       "| 2008-08-01 | 2854.13 | 0.28 | 6.17 |\n",
       "| 2008-09-01 | 2861.55 | 0.26 | 6.25 |\n",
       "| 2008-10-01 | 2874.43 | 0.45 | 6.41 |\n",
       "| 2008-11-01 | 2884.78 | 0.36 | 6.39 |\n",
       "| 2008-12-01 | 2892.86 | 0.28 | 5.90 |\n",
       "| 2009-01-01 | 2906.74 | 0.48 | 5.84 |\n",
       "| 2009-02-01 | 2922.73 | 0.55 | 5.90 |\n",
       "| 2009-03-01 | 2928.57 | 0.20 | 5.61 |\n",
       "| 2009-04-01 | 2942.63 | 0.48 | 5.53 |\n",
       "| 2009-05-01 | 2956.46 | 0.47 | 5.20 |\n",
       "| 2009-06-01 | 2967.10 | 0.36 | 4.80 |\n",
       "| 2009-07-01 | 2974.22 | 0.24 | 4.50 |\n",
       "| 2009-08-01 | 2978.68 | 0.15 | 4.36 |\n",
       "| 2009-09-01 | 2985.83 | 0.24 | 4.34 |\n",
       "| 2009-10-01 | 2994.19 | 0.28 | 4.17 |\n",
       "| 2009-11-01 | 3006.47 | 0.41 | 4.22 |\n",
       "| ... | ... | ... | ... |\n",
       "| 2019-03-01 | 5177.47 |  0.75 | 4.58 |\n",
       "| 2019-04-01 | 5206.98 |  0.57 | 4.94 |\n",
       "| 2019-05-01 | 5213.75 |  0.13 | 4.66 |\n",
       "| 2019-06-01 | 5214.27 |  0.01 | 3.37 |\n",
       "| 2019-07-01 | 5224.18 |  0.19 | 3.22 |\n",
       "| 2019-08-01 | 5229.93 |  0.11 | 3.43 |\n",
       "| 2019-09-01 | 5227.84 | -0.04 | 2.89 |\n",
       "| 2019-10-01 | 5233.07 |  0.10 | 2.54 |\n",
       "| 2019-11-01 | 5259.76 |  0.51 | 3.27 |\n",
       "| 2019-12-01 | 5320.25 |  1.15 | 4.31 |\n",
       "| 2020-01-01 | 5331.42 |  0.21 | 4.19 |\n",
       "| 2020-02-01 | 5344.75 |  0.25 | 4.01 |\n",
       "| 2020-03-01 | 5348.49 |  0.07 | 3.30 |\n",
       "| 2020-04-01 | 5331.91 | -0.31 | 2.40 |\n",
       "| 2020-05-01 | 5311.65 | -0.38 | 1.88 |\n",
       "| 2020-06-01 | 5325.46 |  0.26 | 2.13 |\n",
       "| 2020-07-01 | 5344.63 |  0.36 | 2.31 |\n",
       "| 2020-08-01 | 5357.46 |  0.24 | 2.44 |\n",
       "| 2020-09-01 | 5391.75 |  0.64 | 3.14 |\n",
       "| 2020-10-01 | 5438.12 |  0.86 | 3.92 |\n",
       "| 2020-11-01 | 5486.52 |  0.89 | 4.31 |\n",
       "| 2020-12-01 | 5560.59 |  1.35 | 4.52 |\n",
       "| 2021-01-01 | 5574.49 |  0.25 | 4.56 |\n",
       "| 2021-02-01 | 5622.43 |  0.86 | 5.20 |\n",
       "| 2021-03-01 | 5674.72 |  0.93 | 6.10 |\n",
       "| 2021-04-01 | 5692.31 |  0.31 | 6.76 |\n",
       "| 2021-05-01 | 5739.56 |  0.83 | 8.06 |\n",
       "| 2021-06-01 | 5769.98 |  0.53 | 8.35 |\n",
       "| 2021-07-01 | 5825.37 |  0.96 | 8.99 |\n",
       "| 2021-08-01 | 5876.05 |  0.87 | 9.68 |\n",
       "\n"
      ],
      "text/plain": [
       "    date       Valor   mensal anual\n",
       "1   2007-06-01 2669.38 0.28   3.69 \n",
       "2   2007-07-01 2675.79 0.24   3.74 \n",
       "3   2007-08-01 2688.37 0.47   4.18 \n",
       "4   2007-09-01 2693.21 0.18   4.15 \n",
       "5   2007-10-01 2701.29 0.30   4.12 \n",
       "6   2007-11-01 2711.55 0.38   4.19 \n",
       "7   2007-12-01 2731.62 0.74   4.46 \n",
       "8   2008-01-01 2746.37 0.54   4.56 \n",
       "9   2008-02-01 2759.83 0.49   4.61 \n",
       "10  2008-03-01 2773.08 0.48   4.73 \n",
       "11  2008-04-01 2788.33 0.55   5.04 \n",
       "12  2008-05-01 2810.36 0.79   5.58 \n",
       "13  2008-06-01 2831.16 0.74   6.06 \n",
       "14  2008-07-01 2846.16 0.53   6.37 \n",
       "15  2008-08-01 2854.13 0.28   6.17 \n",
       "16  2008-09-01 2861.55 0.26   6.25 \n",
       "17  2008-10-01 2874.43 0.45   6.41 \n",
       "18  2008-11-01 2884.78 0.36   6.39 \n",
       "19  2008-12-01 2892.86 0.28   5.90 \n",
       "20  2009-01-01 2906.74 0.48   5.84 \n",
       "21  2009-02-01 2922.73 0.55   5.90 \n",
       "22  2009-03-01 2928.57 0.20   5.61 \n",
       "23  2009-04-01 2942.63 0.48   5.53 \n",
       "24  2009-05-01 2956.46 0.47   5.20 \n",
       "25  2009-06-01 2967.10 0.36   4.80 \n",
       "26  2009-07-01 2974.22 0.24   4.50 \n",
       "27  2009-08-01 2978.68 0.15   4.36 \n",
       "28  2009-09-01 2985.83 0.24   4.34 \n",
       "29  2009-10-01 2994.19 0.28   4.17 \n",
       "30  2009-11-01 3006.47 0.41   4.22 \n",
       "... ...        ...     ...    ...  \n",
       "142 2019-03-01 5177.47  0.75  4.58 \n",
       "143 2019-04-01 5206.98  0.57  4.94 \n",
       "144 2019-05-01 5213.75  0.13  4.66 \n",
       "145 2019-06-01 5214.27  0.01  3.37 \n",
       "146 2019-07-01 5224.18  0.19  3.22 \n",
       "147 2019-08-01 5229.93  0.11  3.43 \n",
       "148 2019-09-01 5227.84 -0.04  2.89 \n",
       "149 2019-10-01 5233.07  0.10  2.54 \n",
       "150 2019-11-01 5259.76  0.51  3.27 \n",
       "151 2019-12-01 5320.25  1.15  4.31 \n",
       "152 2020-01-01 5331.42  0.21  4.19 \n",
       "153 2020-02-01 5344.75  0.25  4.01 \n",
       "154 2020-03-01 5348.49  0.07  3.30 \n",
       "155 2020-04-01 5331.91 -0.31  2.40 \n",
       "156 2020-05-01 5311.65 -0.38  1.88 \n",
       "157 2020-06-01 5325.46  0.26  2.13 \n",
       "158 2020-07-01 5344.63  0.36  2.31 \n",
       "159 2020-08-01 5357.46  0.24  2.44 \n",
       "160 2020-09-01 5391.75  0.64  3.14 \n",
       "161 2020-10-01 5438.12  0.86  3.92 \n",
       "162 2020-11-01 5486.52  0.89  4.31 \n",
       "163 2020-12-01 5560.59  1.35  4.52 \n",
       "164 2021-01-01 5574.49  0.25  4.56 \n",
       "165 2021-02-01 5622.43  0.86  5.20 \n",
       "166 2021-03-01 5674.72  0.93  6.10 \n",
       "167 2021-04-01 5692.31  0.31  6.76 \n",
       "168 2021-05-01 5739.56  0.83  8.06 \n",
       "169 2021-06-01 5769.98  0.53  8.35 \n",
       "170 2021-07-01 5825.37  0.96  8.99 \n",
       "171 2021-08-01 5876.05  0.87  9.68 "
      ]
     },
     "metadata": {},
     "output_type": "display_data"
    }
   ],
   "source": [
    "ipca_janela"
   ]
  },
  {
   "cell_type": "code",
   "execution_count": 34,
   "id": "logical-traveler",
   "metadata": {},
   "outputs": [
    {
     "data": {
      "image/png": "[encoded data removed]",
      "text/plain": [
       "plot without title"
      ]
     },
     "metadata": {
      "image/png": {
       "height": 420,
       "width": 420
      }
     },
     "output_type": "display_data"
    }
   ],
   "source": [
    "plot(ipca_janela)"
   ]
  },
  {
   "cell_type": "code",
   "execution_count": null,
   "id": "exclusive-people",
   "metadata": {},
   "outputs": [],
   "source": []
  }
 ],
 "metadata": {
  "kernelspec": {
   "display_name": "R",
   "language": "R",
   "name": "ir"
  },
  "language_info": {
   "codemirror_mode": "r",
   "file_extension": ".r",
   "mimetype": "text/x-r-source",
   "name": "R",
   "pygments_lexer": "r",
   "version": "3.6.1"
  }
 },
 "nbformat": 4,
 "nbformat_minor": 5
}
