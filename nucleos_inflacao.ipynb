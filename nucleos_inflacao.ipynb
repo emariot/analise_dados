{
 "cells": [
  {
   "cell_type": "markdown",
   "id": "ordinary-hollow",
   "metadata": {},
   "source": [
    "# Construindo núcleos de inflação \n",
    "---"
   ]
  },
  {
   "cell_type": "markdown",
   "id": "precious-august",
   "metadata": {},
   "source": [
    "* Construção de núcleos de inflação utilizados pelo Banco Central do Brasil\n",
    "* **Núcleos de Exclusão**\n",
    "     * IPCA-EX0/EX1/EX2/EX3\n",
    "* **Núcleos estáticos**\n",
    "     * IPCA-MA/MS/DP\n",
    "* Alguns ítens do IPCA possuem variação mais voláteis, assim o BC procura isolar algumas tendências inflacionárias criando medidas auxiliáres: os núcleos do IPCA."
   ]
  },
  {
   "cell_type": "markdown",
   "id": "sexual-volume",
   "metadata": {},
   "source": [
    "## Índice de Preços ao Cpnsumidor - IPCA\n",
    "* É utilizado pelo Banco Central para cumprir o regime de metas de inflação\n",
    "* É construido do forma hierarquizada, sendo dividido em grupos, subgrupos, ítens e subítens.\n",
    "* Atualmente são nove grupos: alimentação, transportes, habitação, artidos de residência, vestuário, saúde, educação e comunicação."
   ]
  },
  {
   "cell_type": "markdown",
   "id": "unauthorized-toner",
   "metadata": {},
   "source": [
    "## Composição do índice\n",
    "* Todos os meses o IBGE calcula avariação do preço decada subítem em relação ao mês anterior, de acordocom o seu peso no índicecheio.\n",
    "* O peso de cada um dos grupos é definido de acordo com os gastos das famílias em diferentes bens e serviços, determinados pela Pesquisa de Orçamento Familiar (POF) do IBGE.\n",
    "* O somatório do produto entre a variação mensal e o peso de todos os subítens resultará na variação mensal do índice cheio."
   ]
  },
  {
   "cell_type": "markdown",
   "id": "banner-rotation",
   "metadata": {},
   "source": [
    "## Classificações\n",
    "* Em algumas análises é interessante reunir os subítens do IPCA em determinadas classificações, diferente dos 9 grupos definidos pelo IBGE.\n",
    "* Por exemplo, dentro do pindice existem preços que são regulados, chamados de preços monitorados ou administrados. Esses peços seguem uma lógica diferente dos preços de mercado, assim pode ser melhor isolar e modelá-los conforme sua dinâmica própria, ao ínves de construir um modelo com o índice cheio. \n",
    "\n"
   ]
  },
  {
   "cell_type": "markdown",
   "id": "surrounded-shopper",
   "metadata": {},
   "source": [
    "* Exclusão\n",
    "    * **IPCA-EX0** -> Exclui Alimentação no demonicílio e monitorados\n",
    "    * **IPCA-EX1** -> Exclui cereais, leguminosas e oleaginosas, açúcares, hortaliças, frutas, carnes, pescados, aves, ovos, leites, óleos, sal e condimentos. Aparelhos eletrodomésticos, automóveis, etanos, fumo, serviços e monitorados.\n",
    "    * **IPCA-EX2** -> Exclui cereais, farinhas, féculas e massas, açucares, verduras, hortaliças, carnes, pescados, aves, ovos, leite, óleos e gosduras, sal e condimentos. Eletrodomésticos, automóveis, etanos, fumo, serviços e monitorados.  \n",
    "    * **IPCA-EX3** -> Exclui alimentação no domicílio, eletrodomésticos, automóveis, etanos, fumo, serviços e monitorados.\n",
    "* Média Aparada\n",
    "    * **IPCA-MA** -> Simétrica (20% em cada cauda) sem ítens suavisados.\n",
    "    * **IPCA-MS** -> Simétrica (20% em cada cauda) com ítens suavisados. Combustíveis domésticos, energia elétrica, transporte público, combustíveis, serviços pessoais, fumo, cursos e comunicação.\n",
    "* Dupla Ponderação\n",
    "    * **IPCA-DP** -> Pesos baseados na volatilidade relativa (48 meses) e nos pesos originais do IPCA, reduzindo a importância dos componentes mais voláteis."
   ]
  },
  {
   "cell_type": "markdown",
   "id": "fabulous-might",
   "metadata": {},
   "source": [
    "### Núcleo por média aparada (IPCA-MA)\n",
    "* Exclui os ítens com variação mensal acima do percentil 80 ou abaixo do percentil 20, utilizando 60% da distribuição."
   ]
  },
  {
   "cell_type": "markdown",
   "id": "regulated-guess",
   "metadata": {},
   "source": [
    "### Núcleo por média aparada com suavização (IPCA-MS)\n",
    "* Exclui 20% da variação de preços de âmbas as caudas da distribuição mensal, após a suavização de componentes com variação infrequêntes e de grandes magnitudes."
   ]
  },
  {
   "cell_type": "markdown",
   "id": "ranging-colombia",
   "metadata": {},
   "source": [
    "### Núcleo de dupla ponderação (IPCA-DP)\n",
    "* Ajusta os pesos originais de casa ítem de acordo com sua volatilidade relativa, reduzindo a importância de componentes mais voláteis."
   ]
  },
  {
   "cell_type": "code",
   "execution_count": 6,
   "id": "bacterial-oregon",
   "metadata": {},
   "outputs": [
    {
     "name": "stdout",
     "output_type": "stream",
     "text": [
      "package 'pacman' successfully unpacked and MD5 sums checked\n",
      "\n",
      "The downloaded binary packages are in\n",
      "\tC:\\Users\\Eduardo\\AppData\\Local\\Temp\\RtmpWcpwtP\\downloaded_packages\n"
     ]
    }
   ],
   "source": [
    "install.packages('pacman')"
   ]
  },
  {
   "cell_type": "code",
   "execution_count": 10,
   "id": "devoted-bookmark",
   "metadata": {},
   "outputs": [
    {
     "name": "stderr",
     "output_type": "stream",
     "text": [
      "Warning message:\n",
      "\"package 'nucleos' is not available (for R version 3.6.1)\"\n",
      "Warning message:\n",
      "\"unable to access index for repository http://www.stats.ox.ac.uk/pub/RWin/bin/windows/contrib/3.6:\n",
      "  não foi possível abrir a URL 'http://www.stats.ox.ac.uk/pub/RWin/bin/windows/contrib/3.6/PACKAGES'\"\n",
      "Warning message:\n",
      "\"'BiocManager' not available.  Could not check Bioconductor.\n",
      "\n",
      "Please use `install.packages('BiocManager')` and then retry.\"\n",
      "Warning message in p_install(package, character.only = TRUE, ...):\n",
      "\"\"\n",
      "Warning message in library(package, lib.loc = lib.loc, character.only = TRUE, logical.return = TRUE, :\n",
      "\"there is no package called 'nucleos'\"\n",
      "Warning message in pacman::p_load(\"nucleos\", \"tidyverse\"):\n",
      "\"Failed to install/load:\n",
      "nucleos\"\n"
     ]
    }
   ],
   "source": [
    "pacman::p_load('nucleos','tidyverse')\n"
   ]
  },
  {
   "cell_type": "code",
   "execution_count": 15,
   "id": "cosmetic-auditor",
   "metadata": {},
   "outputs": [
    {
     "name": "stderr",
     "output_type": "stream",
     "text": [
      "Warning message:\n",
      "\"unable to access index for repository http://www.stats.ox.ac.uk/pub/RWin/bin/windows/contrib/3.6:\n",
      "  não foi possível abrir a URL 'http://www.stats.ox.ac.uk/pub/RWin/bin/windows/contrib/3.6/PACKAGES'\"\n"
     ]
    },
    {
     "name": "stdout",
     "output_type": "stream",
     "text": [
      "\n",
      "  There is a binary version available but the source version is later:\n",
      "        binary source needs_compilation\n",
      "remotes  2.3.0  2.4.0             FALSE\n",
      "\n"
     ]
    },
    {
     "name": "stderr",
     "output_type": "stream",
     "text": [
      "installing the source package 'remotes'\n",
      "\n",
      "\n"
     ]
    }
   ],
   "source": [
    "install.packages('remotes')"
   ]
  },
  {
   "cell_type": "code",
   "execution_count": 17,
   "id": "suitable-comment",
   "metadata": {},
   "outputs": [
    {
     "ename": "ERROR",
     "evalue": "Error: Failed to install 'unknown package' from GitHub:\n  HTTP error 404.\n  Not Found\n\n  Did you spell the repo owner (`analisemacropro`) and repo name (`nucleos`) correctly?\n  - If spelling is correct, check that you have the required permissions to access the repo.\n",
     "output_type": "error",
     "traceback": [
      "Error: Failed to install 'unknown package' from GitHub:\n  HTTP error 404.\n  Not Found\n\n  Did you spell the repo owner (`analisemacropro`) and repo name (`nucleos`) correctly?\n  - If spelling is correct, check that you have the required permissions to access the repo.\nTraceback:\n",
      "1. remotes::install_github(\"analisemacropro/nucleos\")",
      "2. install_remotes(remotes, auth_token = auth_token, host = host, \n .     dependencies = dependencies, upgrade = upgrade, force = force, \n .     quiet = quiet, build = build, build_opts = build_opts, build_manual = build_manual, \n .     build_vignettes = build_vignettes, repos = repos, type = type, \n .     ...)",
      "3. tryCatch(res[[i]] <- install_remote(remotes[[i]], ...), error = function(e) {\n .     stop(remote_install_error(remotes[[i]], e))\n . })",
      "4. tryCatchList(expr, classes, parentenv, handlers)",
      "5. tryCatchOne(expr, names, parentenv, handlers[[1L]])",
      "6. value[[3L]](cond)"
     ]
    }
   ],
   "source": [
    "remotes::install_github(\"analisemacropro/nucleos\")"
   ]
  },
  {
   "cell_type": "code",
   "execution_count": 16,
   "id": "patent-confusion",
   "metadata": {},
   "outputs": [],
   "source": [
    "library(pacman)\n",
    "library(remotes)"
   ]
  },
  {
   "cell_type": "code",
   "execution_count": 18,
   "id": "geographic-replication",
   "metadata": {},
   "outputs": [
    {
     "ename": "ERROR",
     "evalue": "Error: Failed to install 'unknown package' from GitHub:\n  HTTP error 404.\n  Not Found\n\n  Did you spell the repo owner (`analisemacropro`) and repo name (`nucleos`) correctly?\n  - If spelling is correct, check that you have the required permissions to access the repo.\n",
     "output_type": "error",
     "traceback": [
      "Error: Failed to install 'unknown package' from GitHub:\n  HTTP error 404.\n  Not Found\n\n  Did you spell the repo owner (`analisemacropro`) and repo name (`nucleos`) correctly?\n  - If spelling is correct, check that you have the required permissions to access the repo.\nTraceback:\n",
      "1. remotes::install_github(\"analisemacropro/nucleos\")",
      "2. install_remotes(remotes, auth_token = auth_token, host = host, \n .     dependencies = dependencies, upgrade = upgrade, force = force, \n .     quiet = quiet, build = build, build_opts = build_opts, build_manual = build_manual, \n .     build_vignettes = build_vignettes, repos = repos, type = type, \n .     ...)",
      "3. tryCatch(res[[i]] <- install_remote(remotes[[i]], ...), error = function(e) {\n .     stop(remote_install_error(remotes[[i]], e))\n . })",
      "4. tryCatchList(expr, classes, parentenv, handlers)",
      "5. tryCatchOne(expr, names, parentenv, handlers[[1L]])",
      "6. value[[3L]](cond)"
     ]
    }
   ],
   "source": [
    "if(!require(\"remotes\")) install.packages(\"remotes\")\n",
    "remotes::install_github(\"analisemacropro/nucleos\")"
   ]
  },
  {
   "cell_type": "code",
   "execution_count": null,
   "id": "moved-matthew",
   "metadata": {},
   "outputs": [],
   "source": [
    "### Coletar e tratar dados desagregados do IPCA"
   ]
  },
  {
   "cell_type": "code",
   "execution_count": 11,
   "id": "artistic-locking",
   "metadata": {},
   "outputs": [
    {
     "ename": "ERROR",
     "evalue": "Error in loadNamespace(name): there is no package called 'nucleos'\n",
     "output_type": "error",
     "traceback": [
      "Error in loadNamespace(name): there is no package called 'nucleos'\nTraceback:\n",
      "1. nucleos::get_ipaca(table = c(1419, 7060), period = \"all\") %>% \n .     nucleos::group_desc()",
      "2. nucleos::group_desc",
      "3. getExportedValue(pkg, name)",
      "4. asNamespace(ns)",
      "5. getNamespace(ns)",
      "6. loadNamespace(name)",
      "7. withRestarts(stop(cond), retry_loadNamespace = function() NULL)",
      "8. withOneRestart(expr, restarts[[1L]])",
      "9. doWithOneRestart(return(expr), restart)"
     ]
    }
   ],
   "source": [
    "ipca_cheio = nucleos::get_ipaca(table=c(1419,7060),period = 'all')%>%\n",
    "    nucleos::group_desc()"
   ]
  },
  {
   "cell_type": "code",
   "execution_count": null,
   "id": "operating-liberia",
   "metadata": {},
   "outputs": [],
   "source": []
  }
 ],
 "metadata": {
  "kernelspec": {
   "display_name": "R",
   "language": "R",
   "name": "ir"
  },
  "language_info": {
   "codemirror_mode": "r",
   "file_extension": ".r",
   "mimetype": "text/x-r-source",
   "name": "R",
   "pygments_lexer": "r",
   "version": "3.6.1"
  }
 },
 "nbformat": 4,
 "nbformat_minor": 5
}
